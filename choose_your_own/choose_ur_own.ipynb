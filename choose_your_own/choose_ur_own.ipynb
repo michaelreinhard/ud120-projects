{
 "metadata": {
  "name": "",
  "signature": "sha256:aa2ea8ccfe06ee417d15719a598fa622fd910315d421ad180bac16cef087a83f"
 },
 "nbformat": 3,
 "nbformat_minor": 0,
 "worksheets": [
  {
   "cells": [
    {
     "cell_type": "markdown",
     "metadata": {},
     "source": [
      "So, now I am going go go through the 'choose your own' lesson. I am going to try to get through it in one sitting. \n",
      "\n",
      "The first thing that went wrong in this lesson was that in running the set up script I would find that my computer would freeze. Part of the problem was that the 'your_algorithm.py' script would produce a plot in a separate window and the code block would continue to have the little star in the brackets would keep showing as long as the window was open. That may be how it is supposed to work but the problem is that no other line of code was able to run. \n",
      "\n",
      "I have posted some questions on the discussion board but in the meantime I want to see if I can fix it by running the code projecting the graphics inline. So, in the first cell of code, I have decided to add the standard package imports. "
     ]
    },
    {
     "cell_type": "code",
     "collapsed": false,
     "input": [
      "%matplotlib inline\n",
      "\n",
      "import matplotlib\n",
      "import numpy as np\n",
      "import matplotlib.pyplot as plt"
     ],
     "language": "python",
     "metadata": {},
     "outputs": [],
     "prompt_number": 3
    },
    {
     "cell_type": "code",
     "collapsed": false,
     "input": [
      "%pwd"
     ],
     "language": "python",
     "metadata": {},
     "outputs": [
      {
       "metadata": {},
       "output_type": "pyout",
       "prompt_number": 4,
       "text": [
        "u'/Users/michaelreinhard/nano/machineLearning/ud120-projects/choose_your_own'"
       ]
      }
     ],
     "prompt_number": 4
    },
    {
     "cell_type": "code",
     "collapsed": false,
     "input": [
      "%run your_algorithm.py"
     ],
     "language": "python",
     "metadata": {},
     "outputs": [
      {
       "metadata": {},
       "output_type": "display_data",
       "png": "[encoded data removed]",
       "text": [
        "<matplotlib.figure.Figure at 0x1060b31d0>"
       ]
      }
     ],
     "prompt_number": 5
    },
    {
     "cell_type": "markdown",
     "metadata": {},
     "source": [
      "So the code runs without any hangups. "
     ]
    },
    {
     "cell_type": "code",
     "collapsed": false,
     "input": [
      "%ls"
     ],
     "language": "python",
     "metadata": {},
     "outputs": [
      {
       "output_type": "stream",
       "stream": "stdout",
       "text": [
        "choose_ur_own.ipynb    class_vis.pyc          prep_terrain_data.pyc\r\n",
        "class_vis.py           prep_terrain_data.py   your_algorithm.py\r\n"
       ]
      }
     ],
     "prompt_number": 6
    },
    {
     "cell_type": "markdown",
     "metadata": {},
     "source": [
      "The assignment is to compare three different algorithms on the same data set for performance. There are three candidate models or, as they call them in the machine learning world, algorithms. \n",
      "\n",
      "k nearest neighbors\n",
      "\n",
      "random forest\n",
      "\n",
      "adaboost (boosted decision tree)\n",
      "\n",
      "We will run each of these models and compare the accuracy of their results to the three models we have used so far, Naive Bayes, SVM and decision trees. \n",
      "\n",
      "So, the process of doing on your own starts with choosing one of the classification algorithms so we don't have to run through all three. We just choose one. \n",
      "\n",
      "I am going to go through k nearest neighbors since it is foundational. \n",
      "\n",
      "The other two are 'ensemble' algorithms. There are different methods working together at different stages of the classification process. \n",
      "\n",
      "We can use the sklearn out-of-the box set up. \n",
      "\n",
      "We have started code that sets up the data and allows us to plot it. \n",
      "\n",
      "So the steps are: \n",
      "\n",
      "research/understand the algorithm\n",
      "\n",
      "run it in sklearn\n",
      "\n",
      "run it on the terrain classification data\n",
      "\n",
      "quantify the accuracy\n",
      "\n",
      "I will make this into headings in the notebook to fill in as I go along. "
     ]
    },
    {
     "cell_type": "markdown",
     "metadata": {},
     "source": [
      "**research/understand the algorithm**"
     ]
    },
    {
     "cell_type": "markdown",
     "metadata": {},
     "source": [
      "[David Robinson's explanation](http://varianceexplained.org/r/kmeans-free-lunch/) of the strengths and weaknesses of the k-means clustering algorithm. \n",
      "\n",
      "[sklearn documentation](http://scikit-learn.org/stable/modules/generated/sklearn.cluster.KMeans.html) of the sklearn.clustering.kmeans().\n",
      "\n",
      "```\n",
      "sklearn.cluster.KMeans(\n",
      "    n_clusters=8, \n",
      "    init='k-means++', \n",
      "    n_init=10, \n",
      "    max_iter=300, \n",
      "    tol=0.0001, \n",
      "    precompute_distances='auto', \n",
      "    verbose=0,\n",
      "    random_state=None, \n",
      "    copy_x=True, \n",
      "    n_jobs=1\n",
      "    )\n",
      "\n",
      "import numpy as np\n",
      "import matplotlib.pyplot as plt\n",
      "\n",
      "from sklearn.cluster import KMeans\n",
      "from sklearn.datasets import <data_set>\n",
      "\n",
      "\n",
      "clf = KMeans()\n",
      "clf.fit(features_train)\n",
      "pred = clf.predict(features_train)\n",
      "```\n",
      "or\n",
      "\n",
      "```\n",
      "pred = clf.fit_predict(features_train) # or _test?\n",
      "```"
     ]
    },
    {
     "cell_type": "markdown",
     "metadata": {},
     "source": [
      "**run it in sklearn**"
     ]
    },
    {
     "cell_type": "markdown",
     "metadata": {},
     "source": [
      "I don't have the slightest idea what the variables are called when they come out of the preprocessing script. First I am going to check the discussion boards to see if there is an answer there. If not, I will concatenate the content of the script to see what it shows. \n",
      "\n",
      "I have found a lot of plausible examples of how to write the code in general but nothing that 'betrays' the names of the variables. So, lets look at the code. "
     ]
    },
    {
     "cell_type": "code",
     "collapsed": false,
     "input": [
      "%cat prep_terrain_data.py"
     ],
     "language": "python",
     "metadata": {},
     "outputs": [
      {
       "output_type": "stream",
       "stream": "stdout",
       "text": [
        "#!/usr/bin/python\r\n",
        "import random\r\n",
        "\r\n",
        "\r\n",
        "def makeTerrainData(n_points=1000):\r\n",
        "###############################################################################\r\n",
        "### make the toy dataset\r\n",
        "    random.seed(42)\r\n",
        "    grade = [random.random() for ii in range(0,n_points)]\r\n",
        "    bumpy = [random.random() for ii in range(0,n_points)]\r\n",
        "    error = [random.random() for ii in range(0,n_points)]\r\n",
        "    y = [round(grade[ii]*bumpy[ii]+0.3+0.1*error[ii]) for ii in range(0,n_points)]\r\n",
        "    for ii in range(0, len(y)):\r\n",
        "        if grade[ii]>0.8 or bumpy[ii]>0.8:\r\n",
        "            y[ii] = 1.0\r\n",
        "\r\n",
        "### split into train/test sets\r\n",
        "    X = [[gg, ss] for gg, ss in zip(grade, bumpy)]\r\n",
        "    split = int(0.75*n_points)\r\n",
        "    X_train = X[0:split]\r\n",
        "    X_test  = X[split:]\r\n",
        "    y_train = y[0:split]\r\n",
        "    y_test  = y[split:]\r\n",
        "\r\n",
        "    grade_sig = [X_train[ii][0] for ii in range(0, len(X_train)) if y_train[ii]==0]\r\n",
        "    bumpy_sig = [X_train[ii][1] for ii in range(0, len(X_train)) if y_train[ii]==0]\r\n",
        "    grade_bkg = [X_train[ii][0] for ii in range(0, len(X_train)) if y_train[ii]==1]\r\n",
        "    bumpy_bkg = [X_train[ii][1] for ii in range(0, len(X_train)) if y_train[ii]==1]\r\n",
        "\r\n",
        "    training_data = {\"fast\":{\"grade\":grade_sig, \"bumpiness\":bumpy_sig}\r\n",
        "            , \"slow\":{\"grade\":grade_bkg, \"bumpiness\":bumpy_bkg}}\r\n",
        "\r\n",
        "\r\n",
        "    grade_sig = [X_test[ii][0] for ii in range(0, len(X_test)) if y_test[ii]==0]\r\n",
        "    bumpy_sig = [X_test[ii][1] for ii in range(0, len(X_test)) if y_test[ii]==0]\r\n",
        "    grade_bkg = [X_test[ii][0] for ii in range(0, len(X_test)) if y_test[ii]==1]\r\n",
        "    bumpy_bkg = [X_test[ii][1] for ii in range(0, len(X_test)) if y_test[ii]==1]\r\n",
        "\r\n",
        "    test_data = {\"fast\":{\"grade\":grade_sig, \"bumpiness\":bumpy_sig}\r\n",
        "            , \"slow\":{\"grade\":grade_bkg, \"bumpiness\":bumpy_bkg}}\r\n",
        "\r\n",
        "    return X_train, y_train, X_test, y_test\r\n",
        "\r\n"
       ]
      }
     ],
     "prompt_number": 8
    },
    {
     "cell_type": "markdown",
     "metadata": {},
     "source": [
      "So the names appear to be very straight forward, X_train, y_train, X_test, y_test. We would normally not have the y's since there we are training an unsupervised algorithm but here we are doing an excercise and want to have a way to guage how well our algorithm does. \n",
      "\n",
      "Also, I didn't realize there was an extra file that does the data prep separately from the first file we were supplied for starter code, your_algorithm.py, that created the graph. \n",
      "\n",
      "There is also another file that I did not notice called class_vis.py, which I suspect creates a nice visualization. It would be nice if there had been a little 'readme' file included in this folder. "
     ]
    },
    {
     "cell_type": "code",
     "collapsed": false,
     "input": [
      "%run class_vis.py"
     ],
     "language": "python",
     "metadata": {},
     "outputs": [],
     "prompt_number": 9
    },
    {
     "cell_type": "markdown",
     "metadata": {},
     "source": [
      "Ok, nothing. Investigate later. "
     ]
    },
    {
     "cell_type": "code",
     "collapsed": false,
     "input": [],
     "language": "python",
     "metadata": {},
     "outputs": []
    },
    {
     "cell_type": "markdown",
     "metadata": {},
     "source": [
      "**run it on the terrain classification data**"
     ]
    },
    {
     "cell_type": "markdown",
     "metadata": {},
     "source": [
      "**quantify the accuracy**"
     ]
    },
    {
     "cell_type": "code",
     "collapsed": false,
     "input": [],
     "language": "python",
     "metadata": {},
     "outputs": []
    }
   ],
   "metadata": {}
  }
 ]
}