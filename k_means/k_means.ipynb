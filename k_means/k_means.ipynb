{
 "metadata": {
  "name": "",
  "signature": "sha256:4d2abcbbfec18588308ac741283cfce3ce07ebda22dfd690c0f1cbfcf7c3cb04"
 },
 "nbformat": 3,
 "nbformat_minor": 0,
 "worksheets": []
}