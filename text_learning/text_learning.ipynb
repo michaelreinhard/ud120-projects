{
 "cells": [
  {
   "cell_type": "markdown",
   "metadata": {},
   "source": [
    "**Lesson 10: text_learning**\n",
    "\n",
    "The sklearn module for text learning is based on the bag of words model, called the CountVectorizer in sklearn, and lives in the feature_extraction.text library.\n",
    "\n",
    "The CountVectorizer is based on the bag of words model, which allows us to analyze documents of different sizes along a common set of dimensions, specifically the words that occur in any of the documents. "
   ]
  },
  {
   "cell_type": "code",
   "execution_count": 6,
   "metadata": {
    "collapsed": false
   },
   "outputs": [],
   "source": [
    "from sklearn.feature_extraction.text import CountVectorizer"
   ]
  },
  {
   "cell_type": "markdown",
   "metadata": {},
   "source": [
    "CountVectorizer is just the name for the bag of words in sklearn. \n",
    "\n",
    "To get them into CountVectorizer you have to turn them into a list. "
   ]
  },
  {
   "cell_type": "code",
   "execution_count": 63,
   "metadata": {
    "collapsed": true
   },
   "outputs": [],
   "source": [
    "string1 = \"My name is Michael. (Love, Love, Love) (Hate, hate hate) Here are some words that we might find in an email\"\n",
    "string2 = \"My name is Michael. The new Star Wars sucks, but it doesn't suck as bad as the others.\"\n",
    "string3 = \"My name is Michael. When in the course of human events, it becomes necessary...\"\n",
    "\n",
    "email_list = [string1, string2, string3]"
   ]
  },
  {
   "cell_type": "markdown",
   "metadata": {},
   "source": [
    "Now we turn the list into a bag of words, so this means that every document is a row and every possible word, i.e., any word that occurs at least once in the corpus, is a column. "
   ]
  },
  {
   "cell_type": "code",
   "execution_count": 64,
   "metadata": {
    "collapsed": false
   },
   "outputs": [
    {
     "name": "stdout",
     "output_type": "stream",
     "text": [
      "['My name is Michael. (Love, Love, Love) (Hate, hate hate) Here are some words that we might find in an email', \"My name is Michael. The new Star Wars sucks, but it doesn't suck as bad as the others.\", 'My name is Michael. When in the course of human events, it becomes necessary...']\n"
     ]
    }
   ],
   "source": [
    "print email_list"
   ]
  },
  {
   "cell_type": "code",
   "execution_count": 65,
   "metadata": {
    "collapsed": false
   },
   "outputs": [],
   "source": [
    "vectorizer = CountVectorizer()"
   ]
  },
  {
   "cell_type": "code",
   "execution_count": 66,
   "metadata": {
    "collapsed": false
   },
   "outputs": [],
   "source": [
    "bag_of_words = vectorizer.fit(email_list)"
   ]
  },
  {
   "cell_type": "code",
   "execution_count": 67,
   "metadata": {
    "collapsed": false
   },
   "outputs": [
    {
     "data": {
      "text/plain": [
       "CountVectorizer(analyzer=u'word', binary=False, decode_error=u'strict',\n",
       "        dtype=<type 'numpy.int64'>, encoding=u'utf-8', input=u'content',\n",
       "        lowercase=True, max_df=1.0, max_features=None, min_df=1,\n",
       "        ngram_range=(1, 1), preprocessor=None, stop_words=None,\n",
       "        strip_accents=None, token_pattern=u'(?u)\\\\b\\\\w\\\\w+\\\\b',\n",
       "        tokenizer=None, vocabulary=None)"
      ]
     },
     "execution_count": 67,
     "metadata": {},
     "output_type": "execute_result"
    }
   ],
   "source": [
    "bag_of_words"
   ]
  },
  {
   "cell_type": "code",
   "execution_count": 68,
   "metadata": {
    "collapsed": false
   },
   "outputs": [],
   "source": [
    "bag_of_words = vectorizer.transform(email_list)"
   ]
  },
  {
   "cell_type": "code",
   "execution_count": 69,
   "metadata": {
    "collapsed": false
   },
   "outputs": [
    {
     "data": {
      "text/plain": [
       "1"
      ]
     },
     "execution_count": 69,
     "metadata": {},
     "output_type": "execute_result"
    }
   ],
   "source": [
    "bag_of_words[2,15]"
   ]
  },
  {
   "cell_type": "code",
   "execution_count": 70,
   "metadata": {
    "collapsed": false
   },
   "outputs": [
    {
     "name": "stdout",
     "output_type": "stream",
     "text": [
      "  (0, 0)\t1\n",
      "  (0, 1)\t1\n",
      "  (0, 8)\t1\n",
      "  (0, 10)\t1\n",
      "  (0, 11)\t3\n",
      "  (0, 12)\t1\n",
      "  (0, 14)\t1\n",
      "  (0, 15)\t1\n",
      "  (0, 17)\t3\n",
      "  (0, 18)\t1\n",
      "  (0, 19)\t1\n",
      "  (0, 20)\t1\n",
      "  (0, 21)\t1\n",
      "  (0, 26)\t1\n",
      "  (0, 30)\t1\n",
      "  (0, 33)\t1\n",
      "  (0, 35)\t1\n",
      "  (1, 2)\t2\n",
      "  (1, 3)\t1\n",
      "  (1, 5)\t1\n",
      "  (1, 7)\t1\n",
      "  (1, 15)\t1\n",
      "  (1, 16)\t1\n",
      "  (1, 18)\t1\n",
      "  (1, 20)\t1\n",
      "  (1, 21)\t1\n",
      "  (1, 23)\t1\n",
      "  (1, 25)\t1\n",
      "  (1, 27)\t1\n",
      "  (1, 28)\t1\n",
      "  (1, 29)\t1\n",
      "  (1, 31)\t2\n",
      "  (1, 32)\t1\n",
      "  (2, 4)\t1\n",
      "  (2, 6)\t1\n",
      "  (2, 9)\t1\n",
      "  (2, 13)\t1\n",
      "  (2, 14)\t1\n",
      "  (2, 15)\t1\n",
      "  (2, 16)\t1\n",
      "  (2, 18)\t1\n",
      "  (2, 20)\t1\n",
      "  (2, 21)\t1\n",
      "  (2, 22)\t1\n",
      "  (2, 24)\t1\n",
      "  (2, 31)\t1\n",
      "  (2, 34)\t1\n"
     ]
    }
   ],
   "source": [
    "print bag_of_words"
   ]
  },
  {
   "cell_type": "markdown",
   "metadata": {},
   "source": [
    "So the tuples are the document/word pair. The column of mostly ones is the frequency. \n",
    "\n",
    "So, the row that has the values (0, 16) 1 [this is in the Udacity Video] means that the 16th word in the 0th document occurred once. \n",
    "\n",
    "There are still some things I don't understand, though. I have included the same sentence, \"My name is Michael\", three times in the data set but there are no words with the frequency 3 in the data set. Also, all three strings begin with the same four words but in the data set the documents do not begin the same way. \n",
    "\n",
    "Ahh, the frequency number is the number of times it occurred in that document. If I want to see a 3 I have to repeat the same word three times in the same document. I'll just confirm that by changing string1 above. \n",
    "\n",
    "Ok, really cool. The words 'love' and 'hate' occur three times. I show the two 3s in the vectorized document and I show that the vectorizer is case insensitive. Also, we see that the number applied to the word has nothing to do with where it occurs in the document.\n",
    "\n",
    "We can find out what number a particular word has by using the get method on the vocabulary method on the count vectorizer. "
   ]
  },
  {
   "cell_type": "code",
   "execution_count": 71,
   "metadata": {
    "collapsed": false
   },
   "outputs": [
    {
     "data": {
      "text/plain": [
       "17"
      ]
     },
     "execution_count": 71,
     "metadata": {},
     "output_type": "execute_result"
    }
   ],
   "source": [
    "vectorizer.vocabulary_.get(\"love\")"
   ]
  },
  {
   "cell_type": "markdown",
   "metadata": {},
   "source": [
    "Get the word from the number? "
   ]
  },
  {
   "cell_type": "markdown",
   "metadata": {},
   "source": [
    "**Stopwords in NLTK**\n",
    "\n",
    "*Get a list of stopwords from the Natural Language Took Kit*"
   ]
  },
  {
   "cell_type": "code",
   "execution_count": 72,
   "metadata": {
    "collapsed": false
   },
   "outputs": [],
   "source": [
    "import nltk"
   ]
  },
  {
   "cell_type": "code",
   "execution_count": 73,
   "metadata": {
    "collapsed": false
   },
   "outputs": [],
   "source": [
    "from nltk.corpus import stopwords"
   ]
  },
  {
   "cell_type": "code",
   "execution_count": null,
   "metadata": {
    "collapsed": false
   },
   "outputs": [],
   "source": [
    "nltk.download() # don't have to run this everytime. "
   ]
  },
  {
   "cell_type": "code",
   "execution_count": 74,
   "metadata": {
    "collapsed": false
   },
   "outputs": [],
   "source": [
    "sw = stopwords.words(\"english\")"
   ]
  },
  {
   "cell_type": "code",
   "execution_count": 75,
   "metadata": {
    "collapsed": false
   },
   "outputs": [
    {
     "data": {
      "text/plain": [
       "u'i'"
      ]
     },
     "execution_count": 75,
     "metadata": {},
     "output_type": "execute_result"
    }
   ],
   "source": [
    "sw[0]"
   ]
  },
  {
   "cell_type": "code",
   "execution_count": 76,
   "metadata": {
    "collapsed": false
   },
   "outputs": [
    {
     "data": {
      "text/plain": [
       "127"
      ]
     },
     "execution_count": 76,
     "metadata": {},
     "output_type": "execute_result"
    }
   ],
   "source": [
    "len(sw)"
   ]
  },
  {
   "cell_type": "markdown",
   "metadata": {
    "collapsed": false
   },
   "source": [
    "So now we know how many stopwords there are in English. \n",
    "\n",
    "Now not all unique words are actually different, that is why we need the stemmer. "
   ]
  },
  {
   "cell_type": "markdown",
   "metadata": {},
   "source": [
    "This is the snowball stemmer. It is like a sklearn module where you create a model or machine that has an existence independent of the data that it is applied to. "
   ]
  },
  {
   "cell_type": "code",
   "execution_count": 1,
   "metadata": {
    "collapsed": false
   },
   "outputs": [],
   "source": [
    "from nltk.stem.snowball import SnowballStemmer"
   ]
  },
  {
   "cell_type": "code",
   "execution_count": 2,
   "metadata": {
    "collapsed": false
   },
   "outputs": [],
   "source": [
    "stemmer = SnowballStemmer(\"english\")"
   ]
  },
  {
   "cell_type": "code",
   "execution_count": 3,
   "metadata": {
    "collapsed": false
   },
   "outputs": [
    {
     "data": {
      "text/plain": [
       "u'respons'"
      ]
     },
     "execution_count": 3,
     "metadata": {},
     "output_type": "execute_result"
    }
   ],
   "source": [
    "stemmer.stem(\"responsivity\")"
   ]
  },
  {
   "cell_type": "markdown",
   "metadata": {},
   "source": [
    "**Order of Operations in Text Processing**\n",
    "\n",
    "Always do your stemming before you do your bag of words text processing. After all, the whole point of stemming is to save time and count the right things. You don't want to count irrelevant variations on words as entirely different things. "
   ]
  },
  {
   "cell_type": "markdown",
   "metadata": {},
   "source": [
    "**Weighting Terms by Frequency**\n",
    "\n",
    "The idea is to weight words inversely by frequency. \n",
    "\n",
    "*Tf* is for term frequency\n",
    "\n",
    "*Idf* is the frequency of the term in the corpus as a whole. You want to give a higher weight to the rare words in the corpus. They are what make your document stand out. When words that are uncommon in the corpus as a whole are frequent in a document those words are especially salient to determining the unique content of the document. So the whole process is; TfIdf. \n",
    "\n",
    "Tf is just the standard weighting of how often a word occurs in a document. But the Idf is the weighting of words that do NOT occur often in the corpus as a whole. So TfIdf weights the rare words that occur a lot in the document more highly. "
   ]
  },
  {
   "cell_type": "markdown",
   "metadata": {
    "collapsed": false
   },
   "source": [
    "**Mini-Project**"
   ]
  },
  {
   "cell_type": "markdown",
   "metadata": {
    "collapsed": false
   },
   "source": [
    "Now we are going to start doing some of the pre-processing ourselves.\n",
    "\n",
    "In the previous projects we recieved the data in the TfIdf form. Now we have to get them to that stage ourselves. \n",
    "\n",
    "We get two text files, one of email from Sara, one from Chris. We have to access the parseOutText() function that takes an opened email as an argument and returns a string containing all the stemmed words in the email. "
   ]
  },
  {
   "cell_type": "markdown",
   "metadata": {
    "collapsed": false
   },
   "source": [
    "The first task in the project is to run parseOutText() on an email. The function is defined in the script *parse_out_email_text.py*. The script calls the function on a sample email. \n",
    "\n",
    "The instructions are: \"We currently have this script set up so that it will print the text of the email to the screen, what is the text that you get when you run parseOutText()?\""
   ]
  },
  {
   "cell_type": "code",
   "execution_count": 10,
   "metadata": {
    "collapsed": false
   },
   "outputs": [
    {
     "name": "stdout",
     "output_type": "stream",
     "text": [
      "hi everyon if you can read this messag your proper use parseouttext pleas proceed to the next part of the project \n"
     ]
    }
   ],
   "source": [
    "%run \"../tools/parse_out_email_text.py\""
   ]
  },
  {
   "cell_type": "markdown",
   "metadata": {},
   "source": [
    "**Deploying Stemming**\n",
    "\n",
    "In parseOutText(), comment out the following line: \n",
    "\n",
    "words = text_string \n",
    "\n",
    "Augment parseOutText() so that the string it returns has all the words stemmed using a SnowballStemmer (use the nltk package, some examples that I found helpful can be found here: http://www.nltk.org/howto/stem.html ). Rerun parse_out_email_text.py, which will use your updated parseOutText() function--what’s your output now?\n",
    "\n",
    "Hint: you'll need to break the string down into individual words, stem each word, then recombine all the words into one string.\n",
    "\n",
    "*My Answer*\n",
    "\n",
    "So I am going to modify the *parse_out_email_test.py* in my notebook and try to run it from there. First I will concatenate the script's contents to my notebook.\n",
    "\n",
    "So I run in the window below: \n",
    "```\n",
    "%load \"../tools/parse_out_email_text.py\"\n",
    "```\n",
    "\n",
    "And the magic command will show commented out at the top of the window with the text of the script printed out in the window. "
   ]
  },
  {
   "cell_type": "code",
   "execution_count": 1,
   "metadata": {
    "collapsed": false
   },
   "outputs": [
    {
     "name": "stdout",
     "output_type": "stream",
     "text": [
      "hi everyon if you can read this messag your proper use parseouttext pleas proceed to the next part of the project \n"
     ]
    }
   ],
   "source": [
    "#!/usr/bin/python\n",
    "\n",
    "from nltk.stem.snowball import SnowballStemmer\n",
    "import string\n",
    "\n",
    "def parseOutText(f):\n",
    "    \"\"\" given an opened email file f, parse out all text below the\n",
    "        metadata block at the top\n",
    "        (in Part 2, you will also add stemming capabilities)\n",
    "        and return a string that contains all the words\n",
    "        in the email (space-separated) \n",
    "        \n",
    "        example use case:\n",
    "        f = open(\"email_file_name.txt\", \"r\")\n",
    "        text = parseOutText(f)\n",
    "        \n",
    "        Hint: you'll need to break the string down into \n",
    "        individual words, stem each word, then recombine all \n",
    "        the words into one string.\n",
    "        \n",
    "        \"\"\"\n",
    "\n",
    "\n",
    "    f.seek(0)  ### go back to beginning of file (annoying)\n",
    "    all_text = f.read()\n",
    "\n",
    "    ### split off metadata\n",
    "    content = all_text.split(\"X-FileName:\")\n",
    "    words = \"\"\n",
    "    if len(content) > 1:\n",
    "        ### remove punctuation\n",
    "        text_string = content[1].translate(string.maketrans(\"\", \"\"), string.punctuation)\n",
    "\n",
    "        ### project part 2: comment out the line below\n",
    "        #words = text_string\n",
    "\n",
    "        ### split the text string into individual words, stem each word,\n",
    "        ### and append the stemmed word to words (make sure there's a single\n",
    "        ### space between each stemmed word)\n",
    "        \n",
    "        # get the stemmer\n",
    "        stemmer = SnowballStemmer(\"english\", ignore_stopwords=True)\n",
    "        text_string = text_string.split()\n",
    "        for word in text_string:\n",
    "            words += stemmer.stem(word) + \" \"\n",
    "\n",
    "        \n",
    "\n",
    "\n",
    "\n",
    "\n",
    "    return words\n",
    "\n",
    "    \n",
    "\n",
    "def main():\n",
    "    ff = open(\"../text_learning/test_email.txt\", \"r\")\n",
    "    text = parseOutText(ff)\n",
    "    print text\n",
    "\n",
    "\n",
    "\n",
    "if __name__ == '__main__':\n",
    "    main()\n"
   ]
  },
  {
   "cell_type": "code",
   "execution_count": 2,
   "metadata": {
    "collapsed": false
   },
   "outputs": [
    {
     "name": "stdout",
     "output_type": "stream",
     "text": [
      "hi everyon if you can read this messag your proper use parseouttext pleas proceed to the next part of the project \n"
     ]
    }
   ],
   "source": [
    "%run \"../tools/parse_out_email_text.py\""
   ]
  },
  {
   "cell_type": "markdown",
   "metadata": {},
   "source": [
    "So now it works both ways. That is good. \n",
    "\n",
    "**Vectorize Text**\n",
    "\n",
    "Now we are going to look at the vectorizing of text. We have the text stemmed. Now we want to turn those into numbers that sklearn work with. \n",
    "\n",
    "The file is *vectorize_text.py*. It will import the parseOutText() and then I alter the code to loop through and parse the text. We feed it one email at a time and return a stemmed text string.\n",
    "\n",
    "Then we go through the strings and take out the proper names. \n",
    "\n",
    "Then we append the updated text strings to the list (?) word_data. And we append the Chris (0) and sara (1) numbers to the from_data list. "
   ]
  },
  {
   "cell_type": "code",
   "execution_count": 3,
   "metadata": {
    "collapsed": false
   },
   "outputs": [
    {
     "data": {
      "text/plain": [
       "u'/Users/michaelreinhard/nano/machineLearning/ud120-projects/text_learning'"
      ]
     },
     "execution_count": 3,
     "metadata": {},
     "output_type": "execute_result"
    }
   ],
   "source": [
    "%pwd"
   ]
  },
  {
   "cell_type": "code",
   "execution_count": 5,
   "metadata": {
    "collapsed": false
   },
   "outputs": [
    {
     "name": "stdout",
     "output_type": "stream",
     "text": [
      "emails processed\n",
      "tjonesnsf stephan and sam need nymex calendar \n"
     ]
    }
   ],
   "source": [
    "# I have code that runs and seems to work but the output is not accepted by the grader for the signature scrubbing quiz in Lesson 10. Here is my code: \n",
    "\n",
    "# %load vectorize_text.py\n",
    "#!/usr/bin/python\n",
    "\n",
    "import os\n",
    "import pickle\n",
    "import re\n",
    "import sys\n",
    "\n",
    "sys.path.append( \"../tools/\" )\n",
    "from parse_out_email_text import parseOutText\n",
    "\n",
    "\"\"\"\n",
    "    Starter code to process the emails from Sara and Chris to extract\n",
    "    the features and get the documents ready for classification.\n",
    "\n",
    "    The list of all the emails from Sara are in the from_sara list\n",
    "    likewise for emails from Chris (from_chris)\n",
    "\n",
    "    The actual documents are in the Enron email dataset, which\n",
    "    you downloaded/unpacked in Part 0 of the first mini-project. If you have\n",
    "    not obtained the Enron email corpus, run startup.py in the tools folder.\n",
    "\n",
    "    The data is stored in lists and packed away in pickle files at the end.\n",
    "\"\"\"\n",
    "\n",
    "\n",
    "from_sara  = open(\"from_sara.txt\", \"r\")\n",
    "from_chris = open(\"from_chris.txt\", \"r\")\n",
    "\n",
    "# trying to find out why no data gets to the parseOutText program\n",
    "# print from_sara\n",
    "# This returned a proper file object\n",
    "\n",
    "from_data = []\n",
    "word_data = []\n",
    "\n",
    "### temp_counter is a way to speed up the development--there are\n",
    "### thousands of emails from Sara and Chris, so running over all of them\n",
    "### can take a long time\n",
    "### temp_counter helps you only look at the first 200 emails in the list so you\n",
    "### can iterate your modifications quicker\n",
    "temp_counter = 0\n",
    "\n",
    "\n",
    "for name, from_person in [(\"sara\", from_sara), (\"chris\", from_chris)]:\n",
    "    for path in from_person:\n",
    "        ### only look at first 200 emails when developing\n",
    "        ### once everything is working, remove this line to run over full dataset\n",
    "        temp_counter += 1\n",
    "        if temp_counter < 200:\n",
    "            path = os.path.join('..', path[:-1])\n",
    "            #print path\n",
    "            email = open(path, \"r\")\n",
    "            \n",
    "            \n",
    "            ### use parseOutText to extract the text from the opened email\n",
    "            #email = parseOutText(email)\n",
    "            \n",
    "\n",
    "            text = parseOutText(email)\n",
    "            #print text\n",
    "            ### use str.replace() to remove any instances of the words\n",
    "            \n",
    "            drop_names = [\"sara\", \"shackleton\", \"chris\", \"germani\"]\n",
    "            for i in drop_names:\n",
    "                text = text.replace(\"i\", \"\")\n",
    "            \n",
    "            ### append the text to word_data\n",
    "            \n",
    "            word_data.append(text)\n",
    "\n",
    "            ### append a 0 to from_data if email is from Sara, and 1 if email is from Chris\n",
    "\n",
    "            if name == \"sara\":\n",
    "                from_data.append(0)\n",
    "            else: \n",
    "                from_data.append(1)\n",
    "            \n",
    "            email.close()\n",
    "\n",
    "print \"emails processed\"\n",
    "print word_data[152]\n",
    "from_sara.close()\n",
    "from_chris.close()\n",
    "\n",
    "pickle.dump( word_data, open(\"your_word_data.pkl\", \"w\") )\n",
    "pickle.dump( from_data, open(\"your_email_authors.pkl\", \"w\") )\n",
    "\n",
    "\n",
    "\n",
    "\n",
    "\n",
    "### in Part 4, do TfIdf vectorization here"
   ]
  },
  {
   "cell_type": "markdown",
   "metadata": {
    "collapsed": true
   },
   "source": [
    "**TfIdf It**\n",
    "\n",
    "Transform the word_data into a tf-idf matrix using the sklearn TfIdf transformation. \n",
    "\n",
    "Remove english stopwords.\n",
    "\n",
    "You can access the mapping between words and feature numbers using get_feature_names(), which returns a list of all the words in the vocabulary. \n",
    "\n",
    "How many different words are there?\n",
    "\n",
    "*Me*\n",
    "\n",
    "So, I am going to start with asking can I get access the the word_data object we have already created and figure out what it is."
   ]
  },
  {
   "cell_type": "code",
   "execution_count": 7,
   "metadata": {
    "collapsed": false
   },
   "outputs": [
    {
     "data": {
      "text/plain": [
       "u'sbale2 nonprvlegedpst susan pleas send the forego lst to rchard thank sara shackleton enron wholesal servc 1400 smth street eb3801a houston tx 77002 ph 713 8535620 fax 713 6463490 '"
      ]
     },
     "execution_count": 7,
     "metadata": {},
     "output_type": "execute_result"
    }
   ],
   "source": [
    "word_data[0]"
   ]
  },
  {
   "cell_type": "markdown",
   "metadata": {},
   "source": [
    "So it looks like a list of strings that contain the texts of emails. I suppose that the 2 at the end of the name is an '@' sign that doesn't get shifted in the transition from whatever we started with to unicode. \n",
    "\n",
    "I will confirm that it is a list. "
   ]
  },
  {
   "cell_type": "code",
   "execution_count": 8,
   "metadata": {
    "collapsed": false
   },
   "outputs": [
    {
     "data": {
      "text/plain": [
       "list"
      ]
     },
     "execution_count": 8,
     "metadata": {},
     "output_type": "execute_result"
    }
   ],
   "source": [
    "type(word_data)"
   ]
  },
  {
   "cell_type": "markdown",
   "metadata": {},
   "source": [
    "So now we should import the CountVectorizer and the TfIdfTransformer."
   ]
  },
  {
   "cell_type": "code",
   "execution_count": 14,
   "metadata": {
    "collapsed": false
   },
   "outputs": [],
   "source": [
    "from sklearn.feature_extraction.text import CountVectorizer\n",
    "from sklearn.feature_extraction.text import TfidfTransformer"
   ]
  },
  {
   "cell_type": "code",
   "execution_count": 18,
   "metadata": {
    "collapsed": false
   },
   "outputs": [],
   "source": [
    "vectorizer = CountVectorizer()\n",
    "X = vectorizer.fit_transform(word_data)"
   ]
  },
  {
   "cell_type": "code",
   "execution_count": 22,
   "metadata": {
    "collapsed": false
   },
   "outputs": [
    {
     "data": {
      "text/plain": [
       "<199x3215 sparse matrix of type '<type 'numpy.int64'>'\n",
       "\twith 18304 stored elements in Compressed Sparse Row format>"
      ]
     },
     "execution_count": 22,
     "metadata": {},
     "output_type": "execute_result"
    }
   ],
   "source": [
    "X"
   ]
  },
  {
   "cell_type": "code",
   "execution_count": 23,
   "metadata": {
    "collapsed": false
   },
   "outputs": [
    {
     "data": {
      "text/plain": [
       "[u'00',\n",
       " u'003680684doc',\n",
       " u'0039',\n",
       " u'01',\n",
       " u'0107',\n",
       " u'0114',\n",
       " u'0121',\n",
       " u'012159',\n",
       " u'0125',\n",
       " u'0126',\n",
       " u'0130',\n",
       " u'0131',\n",
       " u'0141',\n",
       " u'0143',\n",
       " u'0148',\n",
       " u'0158',\n",
       " u'02',\n",
       " u'020',\n",
       " u'0202112',\n",
       " u'0205',\n",
       " u'02052000',\n",
       " u'0207',\n",
       " u'02072001',\n",
       " u'0212',\n",
       " u'02152001',\n",
       " u'02162001',\n",
       " u'0219',\n",
       " u'02192001',\n",
       " u'02202001',\n",
       " u'0224',\n",
       " u'0227',\n",
       " u'022701pdf',\n",
       " u'023048',\n",
       " u'0240',\n",
       " u'0241',\n",
       " u'0246',\n",
       " u'0247',\n",
       " u'0250',\n",
       " u'0253',\n",
       " u'0254',\n",
       " u'0255',\n",
       " u'0256',\n",
       " u'0293',\n",
       " u'0304',\n",
       " u'03052001',\n",
       " u'0308',\n",
       " u'0313',\n",
       " u'03132000',\n",
       " u'031401',\n",
       " u'03142001',\n",
       " u'03182001',\n",
       " u'0320',\n",
       " u'03212001',\n",
       " u'0322',\n",
       " u'0325',\n",
       " u'034836',\n",
       " u'04042001',\n",
       " u'04052001',\n",
       " u'0410',\n",
       " u'0411',\n",
       " u'041201',\n",
       " u'04122001',\n",
       " u'04132000',\n",
       " u'0415',\n",
       " u'04172001',\n",
       " u'04252000',\n",
       " u'0426',\n",
       " u'0428',\n",
       " u'0429',\n",
       " u'0432',\n",
       " u'0433',\n",
       " u'043632',\n",
       " u'0438',\n",
       " u'0441',\n",
       " u'0442',\n",
       " u'0444',\n",
       " u'0445',\n",
       " u'0450',\n",
       " u'0457',\n",
       " u'0458',\n",
       " u'05',\n",
       " u'0501',\n",
       " u'05012000',\n",
       " u'05022000',\n",
       " u'0504',\n",
       " u'05042000',\n",
       " u'05052000',\n",
       " u'0508',\n",
       " u'05142001',\n",
       " u'05152000',\n",
       " u'05162000',\n",
       " u'0519',\n",
       " u'0521',\n",
       " u'0522',\n",
       " u'05222000',\n",
       " u'05232000',\n",
       " u'0527',\n",
       " u'0528',\n",
       " u'0529',\n",
       " u'05292001',\n",
       " u'05312000',\n",
       " u'0535',\n",
       " u'0537',\n",
       " u'0540',\n",
       " u'0546',\n",
       " u'0547',\n",
       " u'06',\n",
       " u'06012000',\n",
       " u'06022000',\n",
       " u'06052001',\n",
       " u'0606',\n",
       " u'06062001',\n",
       " u'0609',\n",
       " u'0614',\n",
       " u'06142000',\n",
       " u'06202000',\n",
       " u'06262000',\n",
       " u'062726',\n",
       " u'0655',\n",
       " u'0658',\n",
       " u'07',\n",
       " u'0709',\n",
       " u'07142000',\n",
       " u'0719',\n",
       " u'07242000',\n",
       " u'07252000',\n",
       " u'07262000',\n",
       " u'072800',\n",
       " u'07302000',\n",
       " u'07312000',\n",
       " u'0743',\n",
       " u'0748',\n",
       " u'0755',\n",
       " u'08',\n",
       " u'0800',\n",
       " u'08012000',\n",
       " u'08042000',\n",
       " u'0805',\n",
       " u'0806',\n",
       " u'08072000',\n",
       " u'0814',\n",
       " u'08172000',\n",
       " u'0818',\n",
       " u'08182000',\n",
       " u'0819',\n",
       " u'0820',\n",
       " u'08212000',\n",
       " u'0823',\n",
       " u'0824',\n",
       " u'0825',\n",
       " u'0832',\n",
       " u'0840',\n",
       " u'0841',\n",
       " u'0843',\n",
       " u'0844',\n",
       " u'0851',\n",
       " u'0855',\n",
       " u'09',\n",
       " u'0905282001',\n",
       " u'0908',\n",
       " u'09082000',\n",
       " u'0909',\n",
       " u'090920',\n",
       " u'0910',\n",
       " u'0911',\n",
       " u'09112000',\n",
       " u'09132000',\n",
       " u'0914',\n",
       " u'09142000',\n",
       " u'0915',\n",
       " u'09152000',\n",
       " u'0916',\n",
       " u'0918',\n",
       " u'09182000',\n",
       " u'09192000',\n",
       " u'09202000',\n",
       " u'0921',\n",
       " u'09212000',\n",
       " u'0922',\n",
       " u'0925',\n",
       " u'0926',\n",
       " u'0927',\n",
       " u'09282000',\n",
       " u'0951',\n",
       " u'0958',\n",
       " u'09jennf',\n",
       " u'0pu',\n",
       " u'10',\n",
       " u'100',\n",
       " u'100000000',\n",
       " u'1000am',\n",
       " u'1001',\n",
       " u'10017',\n",
       " u'10022',\n",
       " u'10022000',\n",
       " u'10032000',\n",
       " u'10036',\n",
       " u'1004',\n",
       " u'10042000',\n",
       " u'1005',\n",
       " u'1008',\n",
       " u'1009',\n",
       " u'1011',\n",
       " u'10112000',\n",
       " u'1012',\n",
       " u'1015',\n",
       " u'10162000',\n",
       " u'1017',\n",
       " u'1018',\n",
       " u'10182000',\n",
       " u'101900',\n",
       " u'10202000',\n",
       " u'1021',\n",
       " u'1023',\n",
       " u'1024',\n",
       " u'10242000',\n",
       " u'1025',\n",
       " u'10252000',\n",
       " u'102601',\n",
       " u'10262000',\n",
       " u'1030',\n",
       " u'1031',\n",
       " u'1034',\n",
       " u'1040',\n",
       " u'1043',\n",
       " u'1045',\n",
       " u'1049',\n",
       " u'1050',\n",
       " u'1052',\n",
       " u'1053',\n",
       " u'1055',\n",
       " u'1056',\n",
       " u'108',\n",
       " u'11',\n",
       " u'1100am',\n",
       " u'11012000',\n",
       " u'1102',\n",
       " u'11032000',\n",
       " u'1104',\n",
       " u'1105',\n",
       " u'1109',\n",
       " u'1110',\n",
       " u'1112',\n",
       " u'1113',\n",
       " u'1114',\n",
       " u'1116',\n",
       " u'1118',\n",
       " u'1119',\n",
       " u'11222000',\n",
       " u'1125',\n",
       " u'1127',\n",
       " u'11272000',\n",
       " u'11282000',\n",
       " u'1130',\n",
       " u'113001',\n",
       " u'11302',\n",
       " u'1131',\n",
       " u'1132',\n",
       " u'1134',\n",
       " u'1135',\n",
       " u'1136',\n",
       " u'1139',\n",
       " u'114',\n",
       " u'1141',\n",
       " u'1142',\n",
       " u'1144',\n",
       " u'1148',\n",
       " u'1150',\n",
       " u'1151',\n",
       " u'1155',\n",
       " u'1157',\n",
       " u'1158',\n",
       " u'116',\n",
       " u'11am',\n",
       " u'12',\n",
       " u'120',\n",
       " u'12000',\n",
       " u'1202',\n",
       " u'1203',\n",
       " u'1204',\n",
       " u'1205',\n",
       " u'12062000',\n",
       " u'1208',\n",
       " u'121',\n",
       " u'12112000',\n",
       " u'12122000',\n",
       " u'1215',\n",
       " u'1218',\n",
       " u'122',\n",
       " u'1225',\n",
       " u'1227',\n",
       " u'123',\n",
       " u'1230',\n",
       " u'12301',\n",
       " u'1237',\n",
       " u'1238',\n",
       " u'1239',\n",
       " u'124',\n",
       " u'1245',\n",
       " u'125',\n",
       " u'1251',\n",
       " u'12998',\n",
       " u'12th',\n",
       " u'13',\n",
       " u'131',\n",
       " u'1334',\n",
       " u'1337',\n",
       " u'137',\n",
       " u'138',\n",
       " u'14',\n",
       " u'1400',\n",
       " u'1418',\n",
       " u'142',\n",
       " u'143',\n",
       " u'1464503',\n",
       " u'149',\n",
       " u'15',\n",
       " u'150',\n",
       " u'15022001',\n",
       " u'151',\n",
       " u'1514',\n",
       " u'151doc',\n",
       " u'1542',\n",
       " u'1545',\n",
       " u'1552',\n",
       " u'158',\n",
       " u'1585',\n",
       " u'159',\n",
       " u'15th',\n",
       " u'16',\n",
       " u'1641',\n",
       " u'1654',\n",
       " u'16th',\n",
       " u'17',\n",
       " u'171',\n",
       " u'1735',\n",
       " u'1736',\n",
       " u'174',\n",
       " u'18',\n",
       " u'18007351470',\n",
       " u'1803',\n",
       " u'18092001',\n",
       " u'1831',\n",
       " u'183320',\n",
       " u'1840',\n",
       " u'1894',\n",
       " u'19',\n",
       " u'1913',\n",
       " u'1950',\n",
       " u'1952',\n",
       " u'1958',\n",
       " u'1960',\n",
       " u'197',\n",
       " u'1980',\n",
       " u'1990',\n",
       " u'1991',\n",
       " u'19911998',\n",
       " u'1995',\n",
       " u'1997',\n",
       " u'1998',\n",
       " u'1999',\n",
       " u'20',\n",
       " u'200',\n",
       " u'2000',\n",
       " u'2001',\n",
       " u'2002',\n",
       " u'203',\n",
       " u'2039',\n",
       " u'204',\n",
       " u'2045',\n",
       " u'206',\n",
       " u'207',\n",
       " u'2073385740',\n",
       " u'21',\n",
       " u'2102',\n",
       " u'21052001',\n",
       " u'212',\n",
       " u'21222484468711',\n",
       " u'2122248718',\n",
       " u'2122702673',\n",
       " u'2122707368',\n",
       " u'2123238450',\n",
       " u'2123238509',\n",
       " u'2123254129',\n",
       " u'2123258282',\n",
       " u'2124698202',\n",
       " u'2125074898',\n",
       " u'2125368133',\n",
       " u'2125368979',\n",
       " u'2127152342',\n",
       " u'213',\n",
       " u'218',\n",
       " u'219',\n",
       " u'22',\n",
       " u'2259248271',\n",
       " u'2259248616',\n",
       " u'227',\n",
       " u'22702',\n",
       " u'228',\n",
       " u'22892',\n",
       " u'229',\n",
       " u'23',\n",
       " u'2347',\n",
       " u'235',\n",
       " u'2351',\n",
       " u'24',\n",
       " u'243500',\n",
       " u'245',\n",
       " u'249',\n",
       " u'24th',\n",
       " u'25',\n",
       " u'2502',\n",
       " u'25042000',\n",
       " u'2511',\n",
       " u'258',\n",
       " u'259',\n",
       " u'25mm',\n",
       " u'26',\n",
       " u'2644',\n",
       " u'27',\n",
       " u'270',\n",
       " u'27112000',\n",
       " u'28',\n",
       " u'281',\n",
       " u'2813781114',\n",
       " u'2813781151',\n",
       " u'286',\n",
       " u'29',\n",
       " u'30',\n",
       " u'3039784965',\n",
       " u'304',\n",
       " u'305',\n",
       " u'30c2',\n",
       " u'30th',\n",
       " u'31',\n",
       " u'310',\n",
       " u'3102',\n",
       " u'315',\n",
       " u'318',\n",
       " u'324',\n",
       " u'3283',\n",
       " u'3286',\n",
       " u'32nd',\n",
       " u'331312398',\n",
       " u'335',\n",
       " u'338',\n",
       " u'33859',\n",
       " u'33907',\n",
       " u'344',\n",
       " u'345',\n",
       " u'34539',\n",
       " u'3454693',\n",
       " u'3502',\n",
       " u'352',\n",
       " u'3583',\n",
       " u'35882',\n",
       " u'36247697',\n",
       " u'368',\n",
       " u'380',\n",
       " u'3800',\n",
       " u'3801a',\n",
       " u'3803a',\n",
       " u'3806a',\n",
       " u'3820',\n",
       " u'3835a',\n",
       " u'384',\n",
       " u'3892',\n",
       " u'3946181',\n",
       " u'3946271',\n",
       " u'3e40enronenroncom',\n",
       " u'403',\n",
       " u'4039746707',\n",
       " u'405',\n",
       " u'40th',\n",
       " u'4107833623',\n",
       " u'413',\n",
       " u'415',\n",
       " u'416',\n",
       " u'4169742217',\n",
       " u'4169745503',\n",
       " u'417',\n",
       " u'4235694457',\n",
       " u'4286848',\n",
       " u'433',\n",
       " u'438',\n",
       " u'44',\n",
       " u'44020',\n",
       " u'442075452705',\n",
       " u'44d',\n",
       " u'45',\n",
       " u'453',\n",
       " u'46564',\n",
       " u'4698172',\n",
       " u'4698202',\n",
       " u'46c1',\n",
       " u'4758',\n",
       " u'4830',\n",
       " u'4841',\n",
       " u'4880',\n",
       " u'4th',\n",
       " u'503',\n",
       " u'506',\n",
       " u'514',\n",
       " u'5357',\n",
       " u'541925',\n",
       " u'54r',\n",
       " u'5510',\n",
       " u'553',\n",
       " u'5707106doc',\n",
       " u'57081',\n",
       " u'5777001',\n",
       " u'5777097',\n",
       " u'58331',\n",
       " u'5aj',\n",
       " u'5bk',\n",
       " u'5f4',\n",
       " u'5g2',\n",
       " u'5pm',\n",
       " u'5th',\n",
       " u'60',\n",
       " u'60311',\n",
       " u'6175421814',\n",
       " u'6175565730',\n",
       " u'6251454doc',\n",
       " u'6252061doc',\n",
       " u'6463393',\n",
       " u'6463490',\n",
       " u'651',\n",
       " u'6571',\n",
       " u'6643207',\n",
       " u'7045937024',\n",
       " u'7045937032',\n",
       " u'7045937278',\n",
       " u'711',\n",
       " u'713',\n",
       " u'7132075893',\n",
       " u'7132079663',\n",
       " u'7133454666',\n",
       " u'713345760020',\n",
       " u'7136249161',\n",
       " u'7136463393',\n",
       " u'7136463490',\n",
       " u'7136464043',\n",
       " u'713758840020',\n",
       " u'7138533919',\n",
       " u'7138533989',\n",
       " u'7138535620',\n",
       " u'7167714739',\n",
       " u'719',\n",
       " u'7237065',\n",
       " u'725',\n",
       " u'727',\n",
       " u'738',\n",
       " u'742',\n",
       " u'758',\n",
       " u'761',\n",
       " u'77002',\n",
       " u'777',\n",
       " u'7774',\n",
       " u'7777',\n",
       " u'7783',\n",
       " u'783',\n",
       " u'80',\n",
       " u'8032171433',\n",
       " u'8032171455',\n",
       " u'803a9exenronxg',\n",
       " u'806',\n",
       " u'812',\n",
       " u'821',\n",
       " u'830',\n",
       " u'832',\n",
       " u'836',\n",
       " u'8438713200',\n",
       " u'845',\n",
       " u'8534737',\n",
       " u'8535620',\n",
       " u'8537895',\n",
       " u'856',\n",
       " u'8606652376',\n",
       " u'8655944734',\n",
       " u'866',\n",
       " u'8707253611',\n",
       " u'8720',\n",
       " u'8797',\n",
       " u'8883092859',\n",
       " u'8du',\n",
       " u'902',\n",
       " u'9024286181',\n",
       " u'909',\n",
       " u'912',\n",
       " u'913',\n",
       " u'91801',\n",
       " u'919',\n",
       " u'92001',\n",
       " u'92601doc',\n",
       " u'929',\n",
       " u'933',\n",
       " u'935',\n",
       " u'938',\n",
       " u'953',\n",
       " u'954',\n",
       " u'955',\n",
       " u'9734599',\n",
       " u'9th',\n",
       " u'a3',\n",
       " u'a8',\n",
       " u'aa',\n",
       " u'abl',\n",
       " u'about',\n",
       " u'above',\n",
       " u'absenc',\n",
       " u'acapolongo',\n",
       " u'acapolongomorganstanleycom',\n",
       " u'accept',\n",
       " u'access',\n",
       " u'accord',\n",
       " u'account',\n",
       " u'accur',\n",
       " u'accurac',\n",
       " u'ace',\n",
       " u'acqur',\n",
       " u'acqust',\n",
       " u'act',\n",
       " u'acton',\n",
       " u'actual',\n",
       " u'actv',\n",
       " u'ad',\n",
       " u'adam',\n",
       " u'adamshouectect',\n",
       " u'add',\n",
       " u'address',\n",
       " u'addresse',\n",
       " u'addt',\n",
       " u'adequ',\n",
       " u'adoc',\n",
       " u'advanc',\n",
       " u'advantag',\n",
       " u'advc',\n",
       " u'advers',\n",
       " u'advs',\n",
       " u'aeco',\n",
       " u'aep',\n",
       " u'afac',\n",
       " u'afactozzncombr',\n",
       " u'affar',\n",
       " u'affl',\n",
       " u'aforement',\n",
       " u'afrca',\n",
       " u'afrcan',\n",
       " u'after',\n",
       " u'afteral',\n",
       " u'afternoon',\n",
       " u'afterward',\n",
       " u'ag',\n",
       " u'agan',\n",
       " u'agenc',\n",
       " u'agent',\n",
       " u'agg',\n",
       " u'aggreg',\n",
       " u'agmt',\n",
       " u'ago',\n",
       " u'agrcol',\n",
       " u'agrcultur',\n",
       " u'agre',\n",
       " u'agree',\n",
       " u'agreememt',\n",
       " u'agreemen',\n",
       " u'agreement',\n",
       " u'agreementdoc',\n",
       " u'agrmnt',\n",
       " u'ahuprkarpecorpcom',\n",
       " u'aken',\n",
       " u'alan',\n",
       " u'alarm',\n",
       " u'alcoa',\n",
       " u'alert',\n",
       " u'all',\n",
       " u'alleghen',\n",
       " u'allen',\n",
       " u'allev',\n",
       " u'alloc',\n",
       " u'allot',\n",
       " u'allow',\n",
       " u'allr',\n",
       " u'almost',\n",
       " u'alonethank',\n",
       " u'along',\n",
       " u'alread',\n",
       " u'alrght',\n",
       " u'also',\n",
       " u'alterson',\n",
       " u'altersonthomasjpmorgancom',\n",
       " u'although',\n",
       " u'alumnum',\n",
       " u'alway',\n",
       " u'am',\n",
       " u'am200',\n",
       " u'amend',\n",
       " u'amend102601doc',\n",
       " u'amerada',\n",
       " u'amerca',\n",
       " u'amerca4th',\n",
       " u'amercan',\n",
       " u'among',\n",
       " u'amongst',\n",
       " u'amount',\n",
       " u'amsterdam',\n",
       " u'an',\n",
       " u'anadarko',\n",
       " u'analys',\n",
       " u'analyst',\n",
       " u'analyt',\n",
       " u'anc',\n",
       " u'and',\n",
       " u'andecc',\n",
       " u'andersen',\n",
       " u'anderson',\n",
       " u'andor',\n",
       " u'andrea',\n",
       " u'andreabertoneenroncom',\n",
       " u'andrew',\n",
       " u'andrzejkabarowskcargllcom',\n",
       " u'aneela',\n",
       " u'angela',\n",
       " u'angelo',\n",
       " u'anker',\n",
       " u'anm',\n",
       " u'anmcarthurroyalbankcom',\n",
       " u'ann',\n",
       " u'anna',\n",
       " u'annabel',\n",
       " u'annabelhouxgscom',\n",
       " u'annex',\n",
       " u'anoth',\n",
       " u'answer',\n",
       " u'antcp',\n",
       " u'anthon',\n",
       " u'anxous',\n",
       " u'any',\n",
       " u'anyon',\n",
       " u'anyth',\n",
       " u'anyway',\n",
       " u'ap',\n",
       " u'aparna',\n",
       " u'apollo',\n",
       " u'apolog',\n",
       " u'appar',\n",
       " u'appear',\n",
       " u'appl',\n",
       " u'applc',\n",
       " u'appleton',\n",
       " u'appont',\n",
       " u'apprec',\n",
       " u'approach',\n",
       " u'appropr',\n",
       " u'approv',\n",
       " u'approx',\n",
       " u'apprs',\n",
       " u'aprl',\n",
       " u'ar',\n",
       " u'arapenrondevelop',\n",
       " u'arapenrondevelopmentenrondevelop',\n",
       " u'arberberyantresbncca',\n",
       " u'arbtr',\n",
       " u'arbtrag',\n",
       " u'are',\n",
       " u'area',\n",
       " u'arkets2ecom3e40enronenroncom',\n",
       " u'armogda',\n",
       " u'arnold',\n",
       " u'aronowtz',\n",
       " u'aronowtzhouectect',\n",
       " u'aros',\n",
       " u'around',\n",
       " u'arrang',\n",
       " u'ars',\n",
       " u'art',\n",
       " u'artcl',\n",
       " u'arthur',\n",
       " u'artran',\n",
       " u'arway',\n",
       " u'arzona',\n",
       " u'as',\n",
       " u'asap',\n",
       " u'asd',\n",
       " u'ash',\n",
       " u'ask',\n",
       " u'assgn',\n",
       " u'assoc',\n",
       " u'assst',\n",
       " u'assum',\n",
       " u'assumpt',\n",
       " u'at',\n",
       " u'atl',\n",
       " u'atlant',\n",
       " u'attach',\n",
       " u'attack',\n",
       " u'attempt',\n",
       " u'attend',\n",
       " u'attent',\n",
       " u'attorney',\n",
       " u'audt',\n",
       " u'august',\n",
       " u'australa',\n",
       " u'author',\n",
       " u'authors',\n",
       " u'authorzatondoc',\n",
       " u'automat',\n",
       " u'autumtozzncombr',\n",
       " u'aval',\n",
       " u'ave',\n",
       " u'avenu',\n",
       " u'awar',\n",
       " u'awat',\n",
       " u'away',\n",
       " u'awhl',\n",
       " u'b3j',\n",
       " u'back',\n",
       " u'background',\n",
       " u'backtoback',\n",
       " u'bad',\n",
       " u'bagwel',\n",
       " u'baley',\n",
       " u'baleyhouectect',\n",
       " u'baloghouectect',\n",
       " u'baltmor',\n",
       " u'banc',\n",
       " u'banczakhouectect',\n",
       " u'bank',\n",
       " u'banken',\n",
       " u'banker',\n",
       " u'bankruptc',\n",
       " u'barbara',\n",
       " u'barretteuenronenron',\n",
       " u'barrngton',\n",
       " u'barton',\n",
       " u'bas',\n",
       " u'basc',\n",
       " u'base',\n",
       " u'baseln',\n",
       " u'baughman',\n",
       " u'bbbbaa1',\n",
       " u'bbbbaa2',\n",
       " u'bbbbaa3',\n",
       " u'bcc',\n",
       " u'be',\n",
       " u'bear',\n",
       " u'beaut',\n",
       " u'becam',\n",
       " u'because',\n",
       " u'beck',\n",
       " u'becom',\n",
       " u'been',\n",
       " u'befo',\n",
       " u'before',\n",
       " u'begn',\n",
       " u'behalf',\n",
       " u'belabor',\n",
       " u'belev',\n",
       " u'bellboothchasechas',\n",
       " u'belong',\n",
       " u'below',\n",
       " u'beng',\n",
       " u'berberyan',\n",
       " u'bernc',\n",
       " u'best',\n",
       " u'beth',\n",
       " u'bethngmorganstanleycom',\n",
       " u'bethngmorganstanleycomenron',\n",
       " u'bethngvcf',\n",
       " u'between',\n",
       " u'bg',\n",
       " u'bge',\n",
       " u'bhab',\n",
       " u'blackln',\n",
       " u'blake',\n",
       " u'blar',\n",
       " u'blarflemngroyalbankcom',\n",
       " u'bless',\n",
       " u'bll',\n",
       " u'blue',\n",
       " u'blvd',\n",
       " u'bnd',\n",
       " u'bnder',\n",
       " u'bnp',\n",
       " u'board',\n",
       " u'bob',\n",
       " u'bofa',\n",
       " u'bold',\n",
       " u'bolerpl',\n",
       " u'bond',\n",
       " u'book',\n",
       " u'boon',\n",
       " u'borgman',\n",
       " u'bos',\n",
       " u'boston',\n",
       " u'both',\n",
       " u'boyd',\n",
       " u'boydlonectect',\n",
       " u'boydnaenronenron',\n",
       " u'bp',\n",
       " u'brabandhouectect',\n",
       " u'bracketthouectect',\n",
       " u'brad',\n",
       " u'bradford',\n",
       " u'bradfordenronenronxg',\n",
       " u'bradfordhouectect',\n",
       " u'bran',\n",
       " u'branch',\n",
       " u'brant',\n",
       " u'brazl',\n",
       " u'brck',\n",
       " u'brdg',\n",
       " u'break',\n",
       " u'brenda',\n",
       " u'brent',\n",
       " u'brenthendryenroncom',\n",
       " u'brett',\n",
       " u'brng',\n",
       " u'broadway',\n",
       " u'brogan',\n",
       " u'broker',\n",
       " u'brokerag',\n",
       " u'brown',\n",
       " u'brtsh',\n",
       " u'bruce',\n",
       " u'brucenaenronenron',\n",
       " u'brunswck',\n",
       " u'bruyett',\n",
       " u'bryan',\n",
       " u'bs',\n",
       " u'bscayn',\n",
       " u'bt',\n",
       " u'btenron',\n",
       " u'btwn',\n",
       " u'budd',\n",
       " u'buld',\n",
       " u'burglar',\n",
       " u'burley',\n",
       " u'burleychas',\n",
       " u'burleychasechas',\n",
       " u'burlngton',\n",
       " u'bus',\n",
       " u'bushman',\n",
       " u'bushmanhouectect',\n",
       " u'but',\n",
       " u'buy',\n",
       " u'bv',\n",
       " u'by',\n",
       " u'bylaw',\n",
       " u'calcul',\n",
       " u'calendar',\n",
       " u'call',\n",
       " u'caller',\n",
       " u'caloenrondevelopmentenrondevelop',\n",
       " u'calpn',\n",
       " u'cama',\n",
       " u'came',\n",
       " u'campbellenronenronxg',\n",
       " u'campbellhouectect',\n",
       " u'can',\n",
       " u'canada',\n",
       " u'canadan',\n",
       " u'candd',\n",
       " u'cannot',\n",
       " u'cant',\n",
       " u'cap',\n",
       " u'capolongo',\n",
       " u'capt',\n",
       " u'capton',\n",
       " u'care',\n",
       " u'cargl',\n",
       " u'carol',\n",
       " u'carolan',\n",
       " u'carolstclarenroncom',\n",
       " u'carr',\n",
       " u'carson',\n",
       " u'carterhouectect',\n",
       " u'carv',\n",
       " u'cascad',\n",
       " u'case',\n",
       " u'casella',\n",
       " u'cash',\n",
       " u'cashhouectect',\n",
       " u'cassandra',\n",
       " u'catequl',\n",
       " u'cater',\n",
       " u'cath',\n",
       " u'caus',\n",
       " u'cavalerd',\n",
       " u'cc',\n",
       " u'cc20',\n",
       " u'ceas',\n",
       " u'cell',\n",
       " u'centerect',\n",
       " u'central',\n",
       " u'certan',\n",
       " u'certf',\n",
       " u'cfo',\n",
       " u'cftc',\n",
       " ...]"
      ]
     },
     "execution_count": 23,
     "metadata": {},
     "output_type": "execute_result"
    }
   ],
   "source": [
    "vectorizer.get_feature_names()\n",
    "# treats numbers as features too? "
   ]
  },
  {
   "cell_type": "code",
   "execution_count": 27,
   "metadata": {
    "collapsed": false
   },
   "outputs": [
    {
     "data": {
      "text/plain": [
       "<199x3215 sparse matrix of type '<type 'numpy.float64'>'\n",
       "\twith 18304 stored elements in Compressed Sparse Row format>"
      ]
     },
     "execution_count": 27,
     "metadata": {},
     "output_type": "execute_result"
    }
   ],
   "source": [
    "transformer = TfidfTransformer()\n",
    "transformer.fit_transform(X)"
   ]
  },
  {
   "cell_type": "code",
   "execution_count": null,
   "metadata": {
    "collapsed": true
   },
   "outputs": [],
   "source": []
  }
 ],
 "metadata": {
  "kernelspec": {
   "display_name": "Python 2",
   "language": "python",
   "name": "python2"
  },
  "language_info": {
   "codemirror_mode": {
    "name": "ipython",
    "version": 2
   },
   "file_extension": ".py",
   "mimetype": "text/x-python",
   "name": "python",
   "nbconvert_exporter": "python",
   "pygments_lexer": "ipython2",
   "version": "2.7.11"
  }
 },
 "nbformat": 4,
 "nbformat_minor": 0
}
